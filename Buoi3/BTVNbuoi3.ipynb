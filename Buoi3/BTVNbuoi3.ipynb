{
  "nbformat": 4,
  "nbformat_minor": 0,
  "metadata": {
    "colab": {
      "provenance": []
    },
    "kernelspec": {
      "name": "python3",
      "display_name": "Python 3"
    },
    "language_info": {
      "name": "python"
    }
  },
  "cells": [
    {
      "cell_type": "code",
      "execution_count": 2,
      "metadata": {
        "colab": {
          "base_uri": "https://localhost:8080/"
        },
        "id": "UCnreFimZPiD",
        "outputId": "ba42a6db-2afb-48e9-ee99-1746b94e5094"
      },
      "outputs": [
        {
          "output_type": "stream",
          "name": "stdout",
          "text": [
            "Nhap x= 10\n",
            "Nhap n= 4\n",
            "644.3333333333334\n"
          ]
        }
      ],
      "source": [
        "#problem 1\n",
        "#bai1\n",
        "import math\n",
        "def gt(n):\n",
        "    temp=1\n",
        "    for i in range(1,n+1):\n",
        "        temp*=i\n",
        "    return temp\n",
        "\n",
        "x = int(input(\"Nhap x= \"))\n",
        "n = int(input(\"Nhap n= \"))\n",
        "sum = 1\n",
        "mau=1\n",
        "tu=1\n",
        "if n==0:\n",
        "    print(sum)\n",
        "else:\n",
        "    for i in range(1,n+1):\n",
        "        tu = math.pow(x,i)\n",
        "        mau = gt(i)\n",
        "        sum+= (tu/mau)\n",
        "    print(sum)"
      ]
    },
    {
      "cell_type": "code",
      "source": [
        "#problem 1\n",
        "#bai2\n",
        "def gt(n):\n",
        "    temp=1\n",
        "    for i in range(1,n+1):\n",
        "        temp*=i\n",
        "    return temp\n",
        "\n",
        "n = int(input(\"Nhap n= \"))\n",
        "sum = 0\n",
        "for i in range(1,n+1):\n",
        "    sum+= (1/gt(i))\n",
        "print(sum)"
      ],
      "metadata": {
        "colab": {
          "base_uri": "https://localhost:8080/"
        },
        "id": "vqIVFW5ObL_S",
        "outputId": "22a51fbe-ed83-4062-b8dc-65c41b8b5a50"
      },
      "execution_count": 3,
      "outputs": [
        {
          "output_type": "stream",
          "name": "stdout",
          "text": [
            "Nhap n= 4\n",
            "1.7083333333333335\n"
          ]
        }
      ]
    },
    {
      "cell_type": "code",
      "source": [
        "#problem 2\n",
        "import math\n",
        "n = int(input(\"Nhap vao 1 so nguyen duong: \"))\n",
        "count = 0\n",
        "for i in range(2,n):\n",
        "    if (math.isqrt(i)**2==i):\n",
        "        count+=1\n",
        "print(count)"
      ],
      "metadata": {
        "colab": {
          "base_uri": "https://localhost:8080/"
        },
        "id": "b_Wjjw-abWB5",
        "outputId": "016397ec-46e3-4c3e-b250-353dfdbecba3"
      },
      "execution_count": 5,
      "outputs": [
        {
          "output_type": "stream",
          "name": "stdout",
          "text": [
            "Nhap vao 1 so nguyen duong: 3\n",
            "0\n"
          ]
        }
      ]
    },
    {
      "cell_type": "code",
      "source": [
        "#problem 3\n",
        "n = int(input(\"Nhap so luong sinh vien: \"))\n",
        "arr1 = []\n",
        "arr2 = []\n",
        "arr3 = []\n",
        "for i in range(n):\n",
        "    name = input(\"Nhap ten: \")\n",
        "    arr1.append(name)\n",
        "    b1 = int(input(\"Diem bai 1: \"))\n",
        "    b2 = int(input(\"Diem bai 2: \"))\n",
        "    sum = b1+b2\n",
        "    arr2.append(sum)\n",
        "    if(sum>=190):\n",
        "        arr3.append(\"Xuat sac\")\n",
        "    elif(sum>=150):\n",
        "        arr3.append(\"Gioi\")\n",
        "    elif(sum>=100):\n",
        "        arr3.append(\"Kha\")\n",
        "    else:\n",
        "        arr3.append(\"Yeu\")\n",
        "for i in range(n):\n",
        "    print(i+1, arr1[i], arr2[i], arr3[i])\n"
      ],
      "metadata": {
        "colab": {
          "base_uri": "https://localhost:8080/"
        },
        "id": "N4Cpw1-pbj0h",
        "outputId": "917c2612-dd4f-4b3d-f598-cf4f6a66bb61"
      },
      "execution_count": 7,
      "outputs": [
        {
          "output_type": "stream",
          "name": "stdout",
          "text": [
            "Nhap so luong sinh vien: 3\n",
            "Nhap ten: Huy\n",
            "Diem bai 1: 20\n",
            "Diem bai 2: 100\n",
            "Nhap ten: Thinh\n",
            "Diem bai 1: 15\n",
            "Diem bai 2: 50\n",
            "Nhap ten: Dong\n",
            "Diem bai 1: 30\n",
            "Diem bai 2: 50\n",
            "1 Huy 120 Kha\n",
            "2 Thinh 65 Yeu\n",
            "3 Dong 80 Yeu\n"
          ]
        }
      ]
    },
    {
      "cell_type": "code",
      "source": [
        "#problem 4\n",
        "import re\n",
        "str = input(\"Nhap vao 1 chuoi email: \")\n",
        "kt = re.search(\"^\\w+@gmail\\.\\w+$\",str)\n",
        "if kt:\n",
        "    print(\"Valid\")\n",
        "else:\n",
        "    print(\"Invalid\")"
      ],
      "metadata": {
        "colab": {
          "base_uri": "https://localhost:8080/"
        },
        "id": "C2vve2zWcMdr",
        "outputId": "f9df777d-c497-4c09-9bb2-03088d91e03c"
      },
      "execution_count": 8,
      "outputs": [
        {
          "output_type": "stream",
          "name": "stdout",
          "text": [
            "Nhap vao 1 chuoi email: dhcnhn@gmail.com\n",
            "Valid\n"
          ]
        }
      ]
    },
    {
      "cell_type": "code",
      "source": [
        "#problem 5\n",
        "m = int(input(\"Nhap so luong dong vat: \"))\n",
        "arr1 = []\n",
        "arr2 = []\n",
        "sum = 0\n",
        "dem = 0\n",
        "index = 0\n",
        "for i in range(m):\n",
        "    name = input(\"Nhap ten: \")\n",
        "    arr1.append(name)\n",
        "    eat = int(input(\"Nhap khoi luong thuc an: \"))\n",
        "    arr2.append(eat)\n",
        "for i in range(m):\n",
        "    print(arr1[i],\" \",arr2[i])\n",
        "for i in range(m):\n",
        "    if arr2[i] > 100:\n",
        "        break\n",
        "    elif arr2[i] >= 5:\n",
        "        sum+=arr2[i]\n",
        "print(\"Tong luong thuc an ma tat ca cac loai can moi ngay: \", sum)\n",
        "maxx = arr2[0]\n",
        "for i in range(1,m):\n",
        "    if arr2[i] > maxx:\n",
        "        maxx = arr2[i]\n",
        "        index = i\n",
        "print(\"Loai an nhieu thuc an nhat \", arr1[index])\n",
        "for i in range(m):\n",
        "    if arr2[i]<5:\n",
        "        print(\"Loai so \", i, \"an it nhat\")\n",
        "    else:\n",
        "        dem+=1\n",
        "if(dem==m):\n",
        "    print(\"Khong co\")"
      ],
      "metadata": {
        "colab": {
          "base_uri": "https://localhost:8080/"
        },
        "id": "r34vZxsTcaDJ",
        "outputId": "0eed2788-6de1-476a-8ef0-5d5994ccecff"
      },
      "execution_count": 9,
      "outputs": [
        {
          "output_type": "stream",
          "name": "stdout",
          "text": [
            "Nhap so luong dong vat: 3\n",
            "Nhap ten: dog\n",
            "Nhap khoi luong thuc an: 30\n",
            "Nhap ten: cat\n",
            "Nhap khoi luong thuc an: 4\n",
            "Nhap ten: tiger\n",
            "Nhap khoi luong thuc an: 100\n",
            "dog   30\n",
            "cat   4\n",
            "tiger   100\n",
            "Tong luong thuc an ma tat ca cac loai can moi ngay:  130\n",
            "Loai an nhieu thuc an nhat  tiger\n",
            "Loai so  1 an it nhat\n"
          ]
        }
      ]
    },
    {
      "cell_type": "code",
      "source": [
        "#problem 6\n",
        "import math\n",
        "def binary(x):\n",
        "    if x<0:\n",
        "        return 0\n",
        "    else:\n",
        "        return 1\n",
        "def sigmoid(x):\n",
        "    return 1/(1+math.exp(-x))\n",
        "def elu(x):\n",
        "    if(x<0):\n",
        "        return 0.01*(math.exp(x)-1)\n",
        "    else:\n",
        "        return x\n",
        "def is_number(x):\n",
        "    try:\n",
        "        float(x)\n",
        "        return True\n",
        "    except ValueError:\n",
        "        return False\n",
        "x = input(\"Nhap x = \")\n",
        "if(is_number(x)==False):\n",
        "    print(\"x must be a number\")\n",
        "else:\n",
        "    x = float(x)\n",
        "    while True:\n",
        "        name = input(\"Nhap ten kich hoat ( binary | sigmoid | elu ): \")\n",
        "        if(name==\"binary\" or name==\"sigmoid\" or name==\"elu\"):\n",
        "            break\n",
        "        else:\n",
        "            print(name, \"is not supported\")\n",
        "if(name==\"binary\"):\n",
        "    print(name, \": f(\",x,\") = \", binary(x))\n",
        "elif(name==\"sigmoid\"):\n",
        "    print(name, \": f(\",x,\") = \", sigmoid(x))\n",
        "else:\n",
        "    print(name, \": f(\",x,\") = \", elu(x))\n"
      ],
      "metadata": {
        "colab": {
          "base_uri": "https://localhost:8080/"
        },
        "id": "prUo6svUcmIK",
        "outputId": "bd835c21-b186-491f-f3bc-bb8e1a4a3193"
      },
      "execution_count": 10,
      "outputs": [
        {
          "output_type": "stream",
          "name": "stdout",
          "text": [
            "Nhap x = 1.5\n",
            "Nhap ten kich hoat ( binary | sigmoid | elu ): binary\n",
            "binary : f( 1.5 ) =  1\n"
          ]
        }
      ]
    }
  ]
}